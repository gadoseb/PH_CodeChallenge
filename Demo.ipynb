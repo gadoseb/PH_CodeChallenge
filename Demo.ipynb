{
 "cells": [
  {
   "cell_type": "code",
   "execution_count": 1,
   "metadata": {},
   "outputs": [],
   "source": [
    "import pandas as pd\n",
    "from data_preparation import prepare_dataframe\n",
    "from planning_permission import check_planning_permission"
   ]
  },
  {
   "cell_type": "code",
   "execution_count": 2,
   "metadata": {},
   "outputs": [
    {
     "name": "stdout",
     "output_type": "stream",
     "text": [
      "2U1: Planning permission required\n",
      "2U2: Planning permission required\n",
      "2U3: Planning permission required\n",
      "2U4: Planning permission required\n",
      "2U5: Planning permission required\n",
      "2U6: Planning permission required\n",
      "2U7: Planning permission required\n",
      "2U8: Planning permission required\n",
      "2U9: Planning permission required\n",
      "2A1: No planning permission required\n",
      "2A2: No planning permission required\n",
      "2A3: Planning permission required\n",
      "2A4: No planning permission required\n",
      "2A5: No planning permission required\n",
      "2A6: Planning permission required\n"
     ]
    }
   ],
   "source": [
    "file_path = '/Users/sebastiano/Documents/PytonScripts/PlanningHub_CodeChallenge/PlanningHub_CodeChallenge_Sebastiano/PlanningHub Software engineer code challange- 202404.xlsx'\n",
    "df = prepare_dataframe(file_path)\n",
    "results = check_planning_permission(df)\n",
    "for result in results.values():\n",
    "    print(result)"
   ]
  }
 ],
 "metadata": {
  "kernelspec": {
   "display_name": "base",
   "language": "python",
   "name": "python3"
  },
  "language_info": {
   "codemirror_mode": {
    "name": "ipython",
    "version": 3
   },
   "file_extension": ".py",
   "mimetype": "text/x-python",
   "name": "python",
   "nbconvert_exporter": "python",
   "pygments_lexer": "ipython3",
   "version": "3.11.5"
  }
 },
 "nbformat": 4,
 "nbformat_minor": 2
}
